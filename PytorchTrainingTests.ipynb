{
 "cells": [
  {
   "attachments": {},
   "cell_type": "markdown",
   "metadata": {},
   "source": [
    "# Training Notebook #\n",
    "This notebook will be used to test training of neural networks using pytorch"
   ]
  },
  {
   "cell_type": "code",
   "execution_count": 17,
   "metadata": {},
   "outputs": [
    {
     "data": {
      "text/plain": [
       "<torch._C.Generator at 0x7f85c3ffdad0>"
      ]
     },
     "execution_count": 17,
     "metadata": {},
     "output_type": "execute_result"
    }
   ],
   "source": [
    "import torch, os, random\n",
    "import numpy as np\n",
    "import torch.nn as nn\n",
    "import torch.nn.functional as F\n",
    "import torch.optim as optim\n",
    "from torchvision import transforms\n",
    "from torchvision.ops import box_iou\n",
    "from PIL import Image, ImageDraw\n",
    "from IPython.display import display\n",
    "from tqdm import tqdm\n",
    "\n",
    "seed = 2023\n",
    "torch.manual_seed(2023)\n",
    "\n",
    "learning_rate = 2e-5\n",
    "device = \"cuda\" if torch.cuda.is_available() else \"cpu\"\n",
    "print(device)\n",
    "batch_size = 16\n",
    "weight_decay = 0\n",
    "epochs = 100\n",
    "num_workers = 4\n",
    "pin_memory = True\n",
    "#load_model = False\n",
    "\n",
    "dataset_path = \"./data/RisikoDataset\"\n"
   ]
  },
  {
   "attachments": {},
   "cell_type": "markdown",
   "metadata": {},
   "source": [
    "Device check"
   ]
  },
  {
   "attachments": {},
   "cell_type": "markdown",
   "metadata": {},
   "source": [
    "## Dataset ##\n",
    "Download dataset and stuff"
   ]
  },
  {
   "cell_type": "code",
   "execution_count": null,
   "metadata": {},
   "outputs": [],
   "source": [
    "class RisikoDataset(torch.utils.data.Dataset):\n",
    "    def __init__(self, dataset_dir:str, mode:str, transform=None):\n",
    "        if mode != \"train\" and mode != \"val\" and mode != \"test\":\n",
    "            raise Exception(\"Mode value of dataset not valid\")\n",
    "\n",
    "        self.imgs_dir = dataset_dir + \"/\" + mode + \"/images\"\n",
    "        self.annots_dir = dataset_dir + \"/\" + mode + \"/labels\"\n",
    "\n",
    "        self.annotations = sorted( filter( lambda x: os.path.isfile(os.path.join(self.annots_dir, x)), os.listdir(self.annots_dir) ) )\n",
    "        self.images = sorted( filter( lambda x: os.path.isfile(os.path.join(self.imgs_dir, x)), os.listdir(self.imgs_dir) ) )\n",
    "        self.transform = transform\n",
    "\n",
    "        if len(self.annotations) != len(self.images):\n",
    "            raise Exception(\"Number of annotations is different from the number of images\")\n",
    "\n",
    "        for i in range(len(self.annotations)):\n",
    "            if os.path.splitext(os.path.basename(self.annotations[i]))[0] != os.path.splitext(os.path.basename(self.images[i]))[0]:\n",
    "                raise Exception(\"Mismatch between images and annotations at id \" + str(i) + \".   imgName = \" + os.path.splitext(os.path.basename(self.images[i]))[0] + \"   labelName = \" + os.path.splitext(os.path.basename(self.annotations[i]))[0])\n",
    "    \n",
    "    def __len__(self) -> int:\n",
    "        return len(self.images)\n",
    "    \n",
    "    def __getitem__(self, idx:int) -> tuple[torch.Tensor, dict]:\n",
    "        annotations_file_data = np.genfromtxt(fname= self.annots_dir + \"/\" + self.annotations[idx], delimiter=' ', dtype=np.float32)\n",
    "        classes, bboxes = np.hsplit(annotations_file_data, np.array([1]))\n",
    "\n",
    "        annotations = {} \n",
    "        annotations[\"boxes\"] = torch.from_numpy(bboxes)\n",
    "        annotations[\"labels\"] = torch.from_numpy(classes).type(torch.int32)\n",
    "        \n",
    "        img = Image.open(self.imgs_dir + \"/\" + self.images[idx]).convert(\"RGB\")\n",
    "\n",
    "        if self.transform:\n",
    "            img = self.transform(img)\n",
    "\n",
    "        return img, annotations\n"
   ]
  },
  {
   "cell_type": "code",
   "execution_count": null,
   "metadata": {},
   "outputs": [],
   "source": [
    "img_to_tensor = transforms.Compose([\n",
    "    #transforms.Resize(size=(500,500)),\n",
    "    transforms.PILToTensor()\n",
    "])\n",
    "\n",
    "train_set = RisikoDataset(dataset_dir=dataset_path, mode=\"train\", transform=img_to_tensor)\n",
    "val_set = RisikoDataset(dataset_dir=dataset_path, mode=\"val\", transform=img_to_tensor)\n",
    "test_set = RisikoDataset(dataset_dir=dataset_path, mode=\"test\", transform=img_to_tensor)\n",
    "\n",
    "train_loader = torch.utils.data.DataLoader(train_set, batch_size=batch_size, shuffle=True, num_workers=num_workers, pin_memory=pin_memory, drop_last=True)\n",
    "val_loader = torch.utils.data.DataLoader(val_set, batch_size=batch_size, shuffle=False, num_workers=num_workers, pin_memory=pin_memory, drop_last=True)\n",
    "test_loader = torch.utils.data.DataLoader(test_set, batch_size=batch_size, shuffle=False, num_workers=num_workers, pin_memory=pin_memory, drop_last=True)"
   ]
  },
  {
   "attachments": {},
   "cell_type": "markdown",
   "metadata": {},
   "source": [
    "## Check dataset ##\n",
    "Print random image with bouding box to be sure that everything is working correctly"
   ]
  },
  {
   "cell_type": "code",
   "execution_count": null,
   "metadata": {},
   "outputs": [],
   "source": [
    "def draw_bboxes_on_image(dataset: RisikoDataset, index:int):\n",
    "    img, labels = dataset.__getitem__(index)\n",
    "    tensor_to_img = transforms.Compose([transforms.ToPILImage()])\n",
    "    img = tensor_to_img(img)\n",
    "    bboxes: torch.Tensor = labels[\"boxes\"]\n",
    "\n",
    "    img_draw = ImageDraw.Draw(img)\n",
    "    bboxes = bboxes * torch.tensor([1280,720,1280,720])\n",
    "\n",
    "    for i in range(bboxes.shape[0]):\n",
    "        bbox = bboxes[i]\n",
    "\n",
    "        x0 = bbox[0] - bbox[2] / 2\n",
    "        x1 = bbox[0] + bbox[2] / 2\n",
    "        y0 = bbox[1] - bbox[3] / 2\n",
    "        y1 = bbox[1] + bbox[3] / 2\n",
    "\n",
    "        img_draw.rectangle([x0, y0, x1, y1], outline=\"red\")\n",
    "        \n",
    "    display(img)\n",
    "\n",
    "\n",
    "draw_bboxes_on_image(train_set, random.randint(0, len(train_set)-1))\n"
   ]
  },
  {
   "attachments": {},
   "cell_type": "markdown",
   "metadata": {},
   "source": [
    "## Neural Network ##\n",
    "Definition of the Neural Network"
   ]
  },
  {
   "cell_type": "code",
   "execution_count": null,
   "metadata": {},
   "outputs": [],
   "source": [
    "class Net(nn.Module):\n",
    "    def __init__(self):\n",
    "        super().__init__()\n",
    "        self.conv1 = nn.Conv2d(3, 64, 3)\n",
    "        self.conv2 = nn.Conv2d(64, 128, 3)\n",
    "        self.conv3 = nn.Conv2d(128, 256, 3)\n",
    "        self.conv4 = nn.Conv2d(256, 256, 6, stride=4, padding=2)\n",
    "        self.conv5 = nn.Conv2d(256, 128, 3, padding=1)\n",
    "        self.conv6 = nn.Conv2d(128, 12+1+4, 3, padding=1) # 12 for classes, 1 for obj presence prob. and 4 for bbox\n",
    "        #self.scale = torch.tensor([128,72,128,72], dtype=torch.float32).expand(128*72,4)\n",
    "        self.scale = torch.tensor([128,72], dtype=torch.float32).repeat(2)\n",
    "        self.center_offset = torch.stack([torch.arange(0, 1, 1/128, dtype=torch.float32).repeat(72), torch.arange(0, 1, 1/72, dtype=torch.float32).repeat(128, 1).t().flatten()]).t()\n",
    "\n",
    "    def forward(self, x):\n",
    "        x = F.leaky_relu(self.conv1(x))\n",
    "        x = F.leaky_relu(self.conv2(x))\n",
    "        x = F.leaky_relu(self.conv3(x))\n",
    "        x = F.leaky_relu(self.conv4(x))\n",
    "        x = F.leaky_relu(self.conv5(x))\n",
    "        x = F.sigmoid(self.conv6(x))\n",
    "        torch.mul(x[..., 13:17], self.scale, out=x[..., 13:17])\n",
    "        torch.add(x[..., 13:15], self.center_offset, out=x[..., 13:15])\n",
    "\n",
    "        return x\n",
    "\n",
    "\n",
    "net = Net().to(device)"
   ]
  },
  {
   "attachments": {},
   "cell_type": "markdown",
   "metadata": {},
   "source": [
    "## Loss Function ##\n"
   ]
  },
  {
   "cell_type": "code",
   "execution_count": 16,
   "metadata": {},
   "outputs": [],
   "source": [
    "class CustomLoss(nn.Module):\n",
    "    def __init__(self, lambda_coord:float = 1.0, lambda_no_obj:float = 0.5):\n",
    "        super(CustomLoss, self).__init__()\n",
    "        self.lambda_coord = lambda_coord\n",
    "        self.lambda_no_obj = lambda_no_obj\n",
    "        self.mse = nn.MSELoss(reduce=\"sum\")\n",
    "\n",
    "    def forward(self, predictions:torch.Tensor, target:torch.Tensor):\n",
    "\n",
    "        #Convert bbox coordinates to feed torchvision.ops.box_iou\n",
    "        bbox_wh_half = torch.mul(target[..., 15:17], 2)\n",
    "        true_x0_y0, true_x1_y1 = torch.sub(target[..., 13:15], bbox_wh_half), torch.add(target[..., 13:15], bbox_wh_half)\n",
    "        bbox_wh_half = torch.mul(predictions[..., 15:17], 2)\n",
    "        pred_x0_y0, pred_x1_y1 = torch.sub(predictions[..., 13:15], bbox_wh_half), torch.add(predictions[..., 13:15], bbox_wh_half)\n",
    "\n",
    "        iou = box_iou(torch.cat([pred_x0_y0, pred_x1_y1],1), torch.cat([true_x0_y0, true_x1_y1],1))\n",
    "        iou_maxes, best_box = torch.max(iou, dim=0)\n",
    "        exist_box = target[..., 12].unsqueeze(3)\n",
    "\n",
    "        # ==================== #\n",
    "        #       BOX LOSS       #\n",
    "        # ==================== #\n",
    "        box_predictions = exist_box * best_box * predictions[..., 13:17]\n",
    "        box_targets = exist_box * best_box * target[..., 13:17]\n",
    "\n",
    "        box_predictions[..., 2:4] = torch.sign(box_predictions[..., 2:4]) * torch.sqrt(torch.abs(box_predictions[..., 2:4]))\n",
    "        box_targets[..., 2:4] = torch.sqrt(box_targets[..., 2:4])\n",
    "\n",
    "        box_loss = self.mse(torch.flatten(box_predictions, end_dim=-2), torch.flatten(box_targets, end_dim=-2))\n",
    "        \n",
    "        # ==================== #\n",
    "        #       OBJ LOSS       #\n",
    "        # ==================== #\n",
    "        obj_loss = self.mse(torch.flatten(best_box * predictions[..., 12:13]), torch.flatten(exist_box * target[..., 12:13]))\n",
    "\n",
    "        # ==================== #\n",
    "        #     NO OBJ LOSS      #\n",
    "        # ==================== #\n",
    "        no_obj_loss = self.mse(torch.flatten((1 - exist_box) * predictions[..., 12:13], start_dim=1), torch.flatten(1 - exist_box, start_dim=1)) # here is simplified tecnically\n",
    "\n",
    "        # ==================== #\n",
    "        #      CLASS LOSS      #\n",
    "        # ==================== #\n",
    "        class_loss = self.mse(torch.flatten(exist_box * predictions[..., :12], end_dim=-2), torch.flatten(exist_box * target[..., :12], end_dim=-2))\n",
    "\n",
    "        loss = self.lambda_coord * box_loss + obj_loss + self.lambda_no_obj * no_obj_loss + class_loss\n",
    "\n",
    "        return loss"
   ]
  },
  {
   "attachments": {},
   "cell_type": "markdown",
   "metadata": {},
   "source": [
    "## Training Function ##"
   ]
  },
  {
   "cell_type": "code",
   "execution_count": null,
   "metadata": {},
   "outputs": [],
   "source": [
    "def train_function(train_loader, model, optimizer, loss_function):\n",
    "    loop = tqdm(train_loader, leave=True)\n",
    "    mean_loss = []\n",
    "\n",
    "    for batch_idx, (x,y) in enumerate(loop):\n",
    "        x, y = x.to(device), y.to(device)\n",
    "        out = model(x)\n",
    "        loss = loss_function(out, y)\n",
    "        mean_loss.append(loss.item())\n",
    "        optimizer.zero_grad()\n",
    "        loss.backward()\n",
    "        optimizer.step()\n",
    "\n",
    "        #update progress-bar\n",
    "        loop.set_postfix(loss=loss.item())\n",
    "\n",
    "    print(f\"Mean loss was {sum(mean_loss)/len(mean_loss)}\")"
   ]
  },
  {
   "attachments": {},
   "cell_type": "markdown",
   "metadata": {},
   "source": [
    "## Train ##"
   ]
  },
  {
   "cell_type": "code",
   "execution_count": null,
   "metadata": {},
   "outputs": [],
   "source": [
    "model = Net().to(device)\n",
    "optimizer = optim.adam(model.parameters(), lr=learning_rate, weight_decay=weight_decay)\n",
    "loss_function = CustomLoss()\n",
    "\n",
    "for epoch in range(epochs):\n",
    "    \n",
    "\n",
    "    train_function(train_loader, model, optimizer, loss_function)"
   ]
  }
 ],
 "metadata": {
  "kernelspec": {
   "display_name": "deepl_env",
   "language": "python",
   "name": "python3"
  },
  "language_info": {
   "codemirror_mode": {
    "name": "ipython",
    "version": 3
   },
   "file_extension": ".py",
   "mimetype": "text/x-python",
   "name": "python",
   "nbconvert_exporter": "python",
   "pygments_lexer": "ipython3",
   "version": "3.10.6"
  },
  "orig_nbformat": 4
 },
 "nbformat": 4,
 "nbformat_minor": 2
}
