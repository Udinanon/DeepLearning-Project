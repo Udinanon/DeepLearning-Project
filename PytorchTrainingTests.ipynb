{
 "cells": [
  {
   "attachments": {},
   "cell_type": "markdown",
   "metadata": {},
   "source": [
    "# Training Notebook #\n",
    "This notebook will be used to test training of neural networks using pytorch"
   ]
  },
  {
   "cell_type": "code",
   "execution_count": null,
   "metadata": {},
   "outputs": [],
   "source": [
    "import torch, os, random\n",
    "import numpy as np\n",
    "import torch.nn as nn\n",
    "import torch.nn.functional as F\n",
    "import torch.optim as optim\n",
    "from torchvision import transforms\n",
    "from torchvision.ops import box_iou\n",
    "from PIL import Image, ImageDraw\n",
    "from IPython.display import display\n",
    "from tqdm import tqdm\n",
    "from utils import intersection_over_union, non_max_suppression, mean_average_precision, get_bboxes, convert_cellboxes, cellboxes_to_boxes\n",
    "\n",
    "seed = 2023\n",
    "torch.manual_seed(2023)\n",
    "\n",
    "learning_rate = 2e-5\n",
    "device = \"cuda\" if torch.cuda.is_available() else \"cpu\"\n",
    "print(device)\n",
    "batch_size = 16\n",
    "weight_decay = 0\n",
    "epochs = 100\n",
    "num_workers = 4\n",
    "pin_memory = True\n",
    "#load_model = False\n",
    "\n",
    "dataset_path = \"./data/RisikoDataset\"\n"
   ]
  },
  {
   "attachments": {},
   "cell_type": "markdown",
   "metadata": {},
   "source": [
    "Device check"
   ]
  },
  {
   "attachments": {},
   "cell_type": "markdown",
   "metadata": {},
   "source": [
    "## Dataset ##\n",
    "Download dataset and stuff"
   ]
  },
  {
   "cell_type": "code",
   "execution_count": null,
   "metadata": {},
   "outputs": [],
   "source": [
    "class RisikoDataset(torch.utils.data.Dataset):\n",
    "    def __init__(self, dataset_dir:str, mode:str, transform=None):\n",
    "        if mode != \"train\" and mode != \"val\" and mode != \"test\":\n",
    "            raise Exception(\"Mode value of dataset not valid\")\n",
    "\n",
    "        self.imgs_dir = dataset_dir + \"/\" + mode + \"/images\"\n",
    "        self.annots_dir = dataset_dir + \"/\" + mode + \"/labels\"\n",
    "\n",
    "        self.annotations = sorted( filter( lambda x: os.path.isfile(os.path.join(self.annots_dir, x)), os.listdir(self.annots_dir) ) )\n",
    "        self.images = sorted( filter( lambda x: os.path.isfile(os.path.join(self.imgs_dir, x)), os.listdir(self.imgs_dir) ) )\n",
    "        self.transform = transform\n",
    "\n",
    "        offsets_1 = torch.stack([torch.arange(0, 1, 1/128, dtype=torch.float32).repeat(72), torch.arange(0, 1, 1/72, dtype=torch.float32).repeat(128, 1).t().flatten()]).t()\n",
    "        offsets_2 = torch.stack([torch.arange(1/128, 1.0001, 1/128, dtype=torch.float32).repeat(72), torch.arange(1/72, 1.0001, 1/72, dtype=torch.float32).repeat(128, 1).t().flatten()]).t()\n",
    "        self.grid_boxes = torch.cat([offsets_1, offsets_2], 1)\n",
    "\n",
    "        if len(self.annotations) != len(self.images):\n",
    "            raise Exception(\"Number of annotations is different from the number of images\")\n",
    "\n",
    "        for i in range(len(self.annotations)):\n",
    "            if os.path.splitext(os.path.basename(self.annotations[i]))[0] != os.path.splitext(os.path.basename(self.images[i]))[0]:\n",
    "                raise Exception(\"Mismatch between images and annotations at id \" + str(i) + \".   imgName = \" + os.path.splitext(os.path.basename(self.images[i]))[0] + \"   labelName = \" + os.path.splitext(os.path.basename(self.annotations[i]))[0])\n",
    "    \n",
    "    def __len__(self) -> int:\n",
    "        return len(self.images)\n",
    "    \n",
    "    def __getitem__(self, idx:int, mode_plot:bool=False) -> tuple[torch.Tensor, torch.tensor]:\n",
    "        annotations_file_data = np.genfromtxt(fname= self.annots_dir + \"/\" + self.annotations[idx], delimiter=' ', dtype=np.float32)\n",
    "        classes, bboxes = np.hsplit(annotations_file_data, np.array([1]))\n",
    "\n",
    "        basic_annotations = torch.cat([torch.from_numpy(bboxes), torch.from_numpy(classes)], 1)\n",
    "        \n",
    "        img = Image.open(self.imgs_dir + \"/\" + self.images[idx]).convert(\"RGB\")\n",
    "\n",
    "        if self.transform: img = self.transform(img)\n",
    "        \n",
    "        if mode_plot: return img, basic_annotations\n",
    "\n",
    "        pil_to_tensor = transforms.Compose([transforms.PILToTensor()])\n",
    "        img:torch.Tensor = pil_to_tensor(img)\n",
    "\n",
    "        # normalize image from 0 to 1\n",
    "        img = img.to(torch.float32) / 256\n",
    "\n",
    "        return img, basic_annotations\n",
    "\n",
    "        '''\n",
    "        # setup data structures for better computation of loss\n",
    "        annotations = torch.zeros([128*72, 12+1+4])\n",
    "        \n",
    "        bbox_wh_half = torch.mul(basic_annotations[..., 1:3], 2)\n",
    "        x0_y0, x1_y1 = torch.sub(basic_annotations[..., 0:2], bbox_wh_half), torch.add(basic_annotations[..., 0:2], bbox_wh_half)\n",
    "        for i in range(basic_annotations.size()[0]):\n",
    "            annotations[ self.grid_boxes[...,] , 12]\n",
    "        \n",
    "\n",
    "        # CONVERT CENTER OF BOX TO CELL IDENTIFIER\n",
    "        target_box_coords = basic_annotations[..., 0:2].mul(torch.tensor([1280,720], dtype=torch.float32)).floor().mul(torch.tensor([1/128,1/72], dtype=torch.float32)).sub(1).floor()'''\n"
   ]
  },
  {
   "cell_type": "code",
   "execution_count": null,
   "metadata": {},
   "outputs": [],
   "source": [
    "train_set = RisikoDataset(dataset_dir=dataset_path, mode=\"train\")\n",
    "val_set = RisikoDataset(dataset_dir=dataset_path, mode=\"val\")\n",
    "test_set = RisikoDataset(dataset_dir=dataset_path, mode=\"test\")\n",
    "\n",
    "train_loader = torch.utils.data.DataLoader(train_set, batch_size=batch_size, shuffle=True, num_workers=num_workers, pin_memory=pin_memory, drop_last=True)\n",
    "val_loader = torch.utils.data.DataLoader(val_set, batch_size=batch_size, shuffle=False, num_workers=num_workers, pin_memory=pin_memory, drop_last=True)\n",
    "test_loader = torch.utils.data.DataLoader(test_set, batch_size=batch_size, shuffle=False, num_workers=num_workers, pin_memory=pin_memory, drop_last=True)"
   ]
  },
  {
   "attachments": {},
   "cell_type": "markdown",
   "metadata": {},
   "source": [
    "## Check dataset ##\n",
    "Print random image with bouding box to be sure that everything is working correctly"
   ]
  },
  {
   "cell_type": "code",
   "execution_count": null,
   "metadata": {},
   "outputs": [],
   "source": [
    "def draw_bboxes_on_image(dataset: RisikoDataset, index:int):\n",
    "    img, labels = dataset.__getitem__(index, mode_plot=True)\n",
    "    #tensor_to_img = transforms.Compose([transforms.ToPILImage()])\n",
    "    #img = tensor_to_img(img)\n",
    "    bboxes = labels[..., 0:4]\n",
    "\n",
    "    img_draw = ImageDraw.Draw(img)\n",
    "    bboxes = bboxes * torch.tensor([1280,720,1280,720])\n",
    "\n",
    "    for i in range(bboxes.shape[0]):\n",
    "        bbox = bboxes[i]\n",
    "\n",
    "        x0 = bbox[0] - bbox[2] / 2\n",
    "        x1 = bbox[0] + bbox[2] / 2\n",
    "        y0 = bbox[1] - bbox[3] / 2\n",
    "        y1 = bbox[1] + bbox[3] / 2\n",
    "\n",
    "        img_draw.rectangle([x0, y0, x1, y1], outline=\"red\")\n",
    "        \n",
    "    display(img)\n",
    "\n",
    "    img, labels = dataset.__getitem__(index)\n",
    "    print(img)\n",
    "    print(labels)\n",
    "\n",
    "\n",
    "draw_bboxes_on_image(train_set, random.randint(0, len(train_set)-1))\n"
   ]
  },
  {
   "attachments": {},
   "cell_type": "markdown",
   "metadata": {},
   "source": [
    "## Neural Network ##\n",
    "Definition of the Neural Network"
   ]
  },
  {
   "cell_type": "code",
   "execution_count": null,
   "metadata": {},
   "outputs": [],
   "source": [
    "class Net(nn.Module):\n",
    "    def __init__(self, device:str=\"cuda\"):\n",
    "        super().__init__()\n",
    "        self.conv1 = nn.Conv2d(3, 64, 3, 3)\n",
    "        self.conv2 = nn.Conv2d(64, 128, 3, 3)\n",
    "        self.conv3 = nn.Conv2d(128, 128, (3,5))\n",
    "        self.conv4 = nn.Conv2d(128, 256, (3,5))\n",
    "        self.conv5 = nn.Conv2d(256, 256, (3,5))\n",
    "        self.conv6 = nn.Conv2d(256, 256, 3)\n",
    "        self.conv7 = nn.Conv2d(256, 64, 3, padding=1)\n",
    "        self.conv8 = nn.Conv2d(64, 12+1+4, 3, padding=1) # 12 for classes, 1 for obj presence prob. and 4 for bbox\n",
    "        self.scale = torch.tensor([1/128,1/72], dtype=torch.float32).expand(128*72,2).to(device) # used to scale net output\n",
    "        self.center_offset = torch.stack([torch.arange(0, 1, 1/128, dtype=torch.float32).repeat(72), torch.arange(0, 1, 1/72, dtype=torch.float32).repeat(128, 1).t().flatten()]).t().to(device)\n",
    "\n",
    "    def forward(self, x):\n",
    "        x = F.leaky_relu(self.conv1(x))\n",
    "        x = F.leaky_relu(self.conv2(x))\n",
    "        x = F.leaky_relu(self.conv3(x))\n",
    "        x = F.leaky_relu(self.conv4(x))\n",
    "        x = F.leaky_relu(self.conv5(x))\n",
    "        x = F.leaky_relu(self.conv6(x))\n",
    "        x = F.leaky_relu(self.conv7(x))\n",
    "        x = F.sigmoid(self.conv8(x))\n",
    "        x = x.flatten(start_dim=1, end_dim=2).t()\n",
    "        x[..., 13:15] = x[..., 13:15] * self.scale + self.center_offset\n",
    "\n",
    "        return x\n",
    "\n",
    "net = Net().to(device)"
   ]
  },
  {
   "attachments": {},
   "cell_type": "markdown",
   "metadata": {},
   "source": [
    "### Testing forward function ###"
   ]
  },
  {
   "cell_type": "code",
   "execution_count": null,
   "metadata": {},
   "outputs": [],
   "source": [
    "img, labels = train_set.__getitem__(0)\n",
    "img = img.to(device)\n",
    "output = net(img)\n",
    "print(output.size())\n",
    "print(output[..., 12:])"
   ]
  },
  {
   "attachments": {},
   "cell_type": "markdown",
   "metadata": {},
   "source": [
    "## Loss Function ##\n"
   ]
  },
  {
   "cell_type": "code",
   "execution_count": null,
   "metadata": {},
   "outputs": [],
   "source": [
    "class CustomLoss(nn.Module):\n",
    "    def __init__(self, lambda_coord:float = 1.0, lambda_no_obj:float = 0.5):\n",
    "        super(CustomLoss, self).__init__()\n",
    "        self.lambda_coord = lambda_coord\n",
    "        self.lambda_no_obj = lambda_no_obj\n",
    "        self.mse = nn.MSELoss(reduction=\"sum\")\n",
    "\n",
    "        self.scale_center = torch.tensor([10,10], dtype=torch.float32)#.to(device)\n",
    "        \n",
    "\n",
    "    # predictions: (72,128,)\n",
    "    def forward(self, predictions:torch.Tensor, target:torch.Tensor):\n",
    "        \n",
    "        target_center_cell_id = torch.mul(target[..., 0:2], self.scale_center).floor().int()\n",
    "        flat_id = target_center_cell_id.mul(torch.tensor([1,128], dtype=torch.int32)).sum(1)\n",
    "\n",
    "        predicted_targets = predictions[flat_id]\n",
    "\n",
    "        # ==================== #\n",
    "        #       BOX LOSS       #\n",
    "        # ==================== #\n",
    "        box_predictions, box_targets = predicted_targets[..., 13:17], target[..., 0:4]\n",
    "        box_predictions[..., 2:4] = torch.sqrt(box_predictions[..., 2:4] + 1e-6) # avoids numerical issues since square root derivative is 1/x\n",
    "        box_targets[..., 2:4] = torch.sqrt(box_targets[..., 2:4])\n",
    "\n",
    "        box_loss = self.mse(box_predictions, box_targets)\n",
    "        \n",
    "        # ==================== #\n",
    "        #       OBJ LOSS       #\n",
    "        # ==================== #\n",
    "        obj_loss = self.mse(predicted_targets[..., 12], torch.ones(predicted_targets.size(0)))\n",
    "\n",
    "        # ==================== #\n",
    "        #     NO OBJ LOSS      #\n",
    "        # ==================== #\n",
    "        no_obj_ids = torch.ones(predictions.size()[0], dtype=torch.bool)\n",
    "        no_obj_ids[flat_id] = 0\n",
    "        predictions[flat_id, 12] = 0\n",
    "        no_obj_loss = self.mse(predictions[..., 12], torch.zeros(predictions.size(0)))\n",
    "\n",
    "        # ==================== #\n",
    "        #      CLASS LOSS      #\n",
    "        # ==================== #\n",
    "        class_target = torch.zeros([predicted_targets.size()[0], 12], dtype=torch.float32)\n",
    "        class_target[torch.arange(0, predicted_targets.size()[0]), target[...,4].int()-1] = 1\n",
    "        class_loss = self.mse(predicted_targets[..., :12], class_target)\n",
    "\n",
    "        loss = self.lambda_coord * box_loss + obj_loss + self.lambda_no_obj * no_obj_loss + class_loss\n",
    "\n",
    "        return loss"
   ]
  },
  {
   "attachments": {},
   "cell_type": "markdown",
   "metadata": {},
   "source": [
    "### Testing Loss function ###"
   ]
  },
  {
   "cell_type": "code",
   "execution_count": null,
   "metadata": {},
   "outputs": [],
   "source": [
    "loss_function = CustomLoss(lambda_coord=1.0, lambda_no_obj=1)\n",
    "\n",
    "emu_target = torch.tensor(\n",
    "    [\n",
    "        [0.1, 0.1, 0.0, 0.0, 10],\n",
    "        [1.0, 1.0, 0.0, 0.0, 5]\n",
    "    ], dtype=torch.float32)\n",
    "\n",
    "scale_center = torch.tensor([10,10], dtype=torch.float32)\n",
    "target_center_cell_id = torch.mul(emu_target[..., 0:2], scale_center).floor().int()\n",
    "flat_id = target_center_cell_id.mul(torch.tensor([1,128], dtype=torch.int32)).sum(1)\n",
    "\n",
    "emu_output = torch.zeros([128*72,12+1+4])\n",
    "emu_output[flat_id[0], 13:17] = emu_target[0, 0:4]\n",
    "emu_output[flat_id[1], 13:17] = emu_target[1, 0:4]\n",
    "emu_output[flat_id, 12] = 1\n",
    "\n",
    "emu_output[flat_id[0], 10-1] = 1\n",
    "emu_output[flat_id[1], 5-1] = 1\n",
    "\n",
    "emu_output[[0,1,2], [3,4,5]] = 1 # correct(no effect on result since the respective region does not contain any objects)\n",
    "emu_output[[0,1,2], 12] = 1\n",
    "\n",
    "print(emu_output[flat_id])\n",
    "print(emu_target)\n",
    "\n",
    "loss = loss_function(emu_output,emu_target)\n",
    "print(loss)"
   ]
  },
  {
   "attachments": {},
   "cell_type": "markdown",
   "metadata": {},
   "source": [
    "## Training Function ##"
   ]
  },
  {
   "cell_type": "code",
   "execution_count": null,
   "metadata": {},
   "outputs": [],
   "source": [
    "def train_function(train_loader, model, optimizer, loss_function):\n",
    "    loop = tqdm(train_loader, leave=True)\n",
    "    mean_loss = []\n",
    "\n",
    "    for batch_idx, (x,y) in enumerate(loop):\n",
    "        x, y = x.to(device), y.to(device)\n",
    "        out = model(x)\n",
    "        loss = loss_function(out, y)\n",
    "        mean_loss.append(loss.item())\n",
    "        optimizer.zero_grad()\n",
    "        loss.backward()\n",
    "        optimizer.step()\n",
    "\n",
    "        #update progress-bar\n",
    "        loop.set_postfix(loss=loss.item())\n",
    "\n",
    "    print(f\"Mean loss was {sum(mean_loss)/len(mean_loss)}\")"
   ]
  },
  {
   "attachments": {},
   "cell_type": "markdown",
   "metadata": {},
   "source": [
    "## Train ##"
   ]
  },
  {
   "cell_type": "code",
   "execution_count": null,
   "metadata": {},
   "outputs": [],
   "source": [
    "model = Net().to(device)\n",
    "optimizer = optim.adam(model.parameters(), lr=learning_rate, weight_decay=weight_decay)\n",
    "loss_function = CustomLoss()\n",
    "\n",
    "for epoch in range(epochs):\n",
    "    \n",
    "\n",
    "    train_function(train_loader, model, optimizer, loss_function)"
   ]
  }
 ],
 "metadata": {
  "kernelspec": {
   "display_name": "deepl_env",
   "language": "python",
   "name": "python3"
  },
  "language_info": {
   "codemirror_mode": {
    "name": "ipython",
    "version": 3
   },
   "file_extension": ".py",
   "mimetype": "text/x-python",
   "name": "python",
   "nbconvert_exporter": "python",
   "pygments_lexer": "ipython3",
   "version": "3.10.12"
  },
  "orig_nbformat": 4
 },
 "nbformat": 4,
 "nbformat_minor": 2
}
