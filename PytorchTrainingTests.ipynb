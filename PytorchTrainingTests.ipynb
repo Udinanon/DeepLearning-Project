{
 "cells": [
  {
   "attachments": {},
   "cell_type": "markdown",
   "metadata": {},
   "source": [
    "# Training Notebook #\n",
    "This notebook will be used to test training of neural networks using pytorch"
   ]
  },
  {
   "cell_type": "code",
   "execution_count": 15,
   "metadata": {},
   "outputs": [],
   "source": [
    "import torch, os, random\n",
    "import numpy as np\n",
    "import torch.nn as nn\n",
    "import torch.nn.functional as F\n",
    "import torch.optim as optim\n",
    "from torchvision import transforms\n",
    "from torchvision.ops import box_iou\n",
    "from PIL import Image, ImageDraw\n",
    "from IPython.display import display"
   ]
  },
  {
   "attachments": {},
   "cell_type": "markdown",
   "metadata": {},
   "source": [
    "Device check"
   ]
  },
  {
   "cell_type": "code",
   "execution_count": null,
   "metadata": {},
   "outputs": [],
   "source": [
    "if torch.cuda.is_available():\n",
    "    device = torch.device(\"cuda\")\n",
    "elif torch.backends.mps.is_available():\n",
    "    device = torch.device(\"mps\")\n",
    "else:\n",
    "    device = torch.device(\"cpu\")\n",
    "\n",
    "print(\"Using \", end=\"\")\n",
    "print(device)"
   ]
  },
  {
   "attachments": {},
   "cell_type": "markdown",
   "metadata": {},
   "source": [
    "## Dataset ##\n",
    "Download dataset and stuff"
   ]
  },
  {
   "cell_type": "code",
   "execution_count": null,
   "metadata": {},
   "outputs": [],
   "source": [
    "class RisikoDataset(torch.utils.data.Dataset):\n",
    "    def __init__(self, dataset_dir:str, mode:str, transform=None):\n",
    "        if mode != \"train\" and mode != \"val\" and mode != \"test\":\n",
    "            raise Exception(\"Mode value of dataset not valid\")\n",
    "\n",
    "        self.imgs_dir = dataset_dir + \"/\" + mode + \"/images\"\n",
    "        self.annots_dir = dataset_dir + \"/\" + mode + \"/labels\"\n",
    "\n",
    "        self.annotations = sorted( filter( lambda x: os.path.isfile(os.path.join(self.annots_dir, x)), os.listdir(self.annots_dir) ) )\n",
    "        self.images = sorted( filter( lambda x: os.path.isfile(os.path.join(self.imgs_dir, x)), os.listdir(self.imgs_dir) ) )\n",
    "        self.transform = transform\n",
    "\n",
    "        if len(self.annotations) != len(self.images):\n",
    "            raise Exception(\"Number of annotations is different from the number of images\")\n",
    "\n",
    "        for i in range(len(self.annotations)):\n",
    "            if os.path.splitext(os.path.basename(self.annotations[i]))[0] != os.path.splitext(os.path.basename(self.images[i]))[0]:\n",
    "                raise Exception(\"Mismatch between images and annotations at id \" + str(i) + \".   imgName = \" + os.path.splitext(os.path.basename(self.images[i]))[0] + \"   labelName = \" + os.path.splitext(os.path.basename(self.annotations[i]))[0])\n",
    "    \n",
    "    def __len__(self) -> int:\n",
    "        return len(self.images)\n",
    "    \n",
    "    def __getitem__(self, idx:int) -> tuple[torch.Tensor, dict]:\n",
    "        annotations_file_data = np.genfromtxt(fname= self.annots_dir + \"/\" + self.annotations[idx], delimiter=' ', dtype=np.float32)\n",
    "        classes, bboxes = np.hsplit(annotations_file_data, np.array([1]))\n",
    "\n",
    "        annotations = {} \n",
    "        annotations[\"boxes\"] = torch.from_numpy(bboxes)\n",
    "        annotations[\"labels\"] = torch.from_numpy(classes).type(torch.int32)\n",
    "        \n",
    "        img = Image.open(self.imgs_dir + \"/\" + self.images[idx]).convert(\"RGB\")\n",
    "\n",
    "        if self.transform:\n",
    "            img = self.transform(img)\n",
    "\n",
    "        return img, annotations\n"
   ]
  },
  {
   "cell_type": "code",
   "execution_count": null,
   "metadata": {},
   "outputs": [],
   "source": [
    "img_to_tensor = transforms.Compose([\n",
    "    #transforms.Resize(size=(500,500)),\n",
    "    transforms.PILToTensor()\n",
    "])\n",
    "\n",
    "batch_size = 50\n",
    "\n",
    "dataset_path = \"./data/RisikoDataset\"\n",
    "\n",
    "train_set = RisikoDataset(dataset_dir=dataset_path, mode=\"train\", transform=img_to_tensor)\n",
    "val_set = RisikoDataset(dataset_dir=dataset_path, mode=\"val\", transform=img_to_tensor)\n",
    "test_set = RisikoDataset(dataset_dir=dataset_path, mode=\"test\", transform=img_to_tensor)\n",
    "\n",
    "train_loader = torch.utils.data.DataLoader(train_set, batch_size=batch_size, shuffle=True, num_workers=4)\n",
    "val_loader = torch.utils.data.DataLoader(val_set, batch_size=batch_size, shuffle=False, num_workers=4)\n",
    "test_loader = torch.utils.data.DataLoader(test_set, batch_size=batch_size, shuffle=False, num_workers=4)"
   ]
  },
  {
   "attachments": {},
   "cell_type": "markdown",
   "metadata": {},
   "source": [
    "## Check dataset ##\n",
    "Print random image with bouding box to be sure that everything is working correctly"
   ]
  },
  {
   "cell_type": "code",
   "execution_count": null,
   "metadata": {},
   "outputs": [],
   "source": [
    "def draw_bboxes_on_image(dataset: RisikoDataset, index:int):\n",
    "    img, labels = dataset.__getitem__(index)\n",
    "    tensor_to_img = transforms.Compose([transforms.ToPILImage()])\n",
    "    img = tensor_to_img(img)\n",
    "    bboxes: torch.Tensor = labels[\"boxes\"]\n",
    "\n",
    "    img_draw = ImageDraw.Draw(img)\n",
    "    bboxes = bboxes * torch.tensor([1280,720,1280,720])\n",
    "\n",
    "    for i in range(bboxes.shape[0]):\n",
    "        bbox = bboxes[i]\n",
    "\n",
    "        x0 = bbox[0] - bbox[2] / 2\n",
    "        x1 = bbox[0] + bbox[2] / 2\n",
    "        y0 = bbox[1] - bbox[3] / 2\n",
    "        y1 = bbox[1] + bbox[3] / 2\n",
    "\n",
    "        img_draw.rectangle([x0, y0, x1, y1], outline=\"red\")\n",
    "        \n",
    "    display(img)\n",
    "\n",
    "\n",
    "draw_bboxes_on_image(train_set, random.randint(0, len(train_set)-1))\n"
   ]
  },
  {
   "attachments": {},
   "cell_type": "markdown",
   "metadata": {},
   "source": [
    "## Neural Network ##\n",
    "Definition of the Neural Network"
   ]
  },
  {
   "cell_type": "code",
   "execution_count": null,
   "metadata": {},
   "outputs": [],
   "source": [
    "class Net(nn.Module):\n",
    "    def __init__(self):\n",
    "        super().__init__()\n",
    "        self.conv1 = nn.Conv2d(3, 64, 3)\n",
    "        self.conv2 = nn.Conv2d(64, 256, 3)\n",
    "        self.conv3 = nn.Conv2d(256, 512, 3)\n",
    "        self.conv4 = nn.Conv2d(512, 512, 6, stride=4, padding=2)\n",
    "        self.conv5 = nn.Conv2d(512, 128, 3, padding=1)\n",
    "        self.conv6 = nn.Conv2d(128, 12+4, 3, padding=1)\n",
    "        #self.scale = torch.tensor([128,72,128,72], dtype=torch.float32).expand(128*72,4)\n",
    "        self.scale = torch.tensor([128,72,128,72], dtype=torch.float32)\n",
    "        self.center_offset = torch.stack([torch.arange(0, 1, 1/128, dtype=torch.float32).repeat(72), torch.arange(0, 1, 1/72, dtype=torch.float32).repeat(128, 1).t().flatten()]).t()\n",
    "\n",
    "    def forward(self, x):\n",
    "        x = F.leaky_relu(self.conv1(x))\n",
    "        x = F.leaky_relu(self.conv2(x))\n",
    "        x = F.leaky_relu(self.conv3(x))\n",
    "        x = F.leaky_relu(self.conv4(x))\n",
    "        x = F.leaky_relu(self.conv5(x))\n",
    "        x = F.sigmoid(self.conv6(x))\n",
    "        torch.mul(x[..., 13:17], self.scale, out=x[..., 13:17])\n",
    "        torch.add(x[..., 13:15], self.center_offset, out=x[..., 13:15])\n",
    "\n",
    "        return x\n",
    "\n",
    "\n",
    "net = Net().to(device)"
   ]
  },
  {
   "attachments": {},
   "cell_type": "markdown",
   "metadata": {},
   "source": [
    "## Loss Function ##\n"
   ]
  },
  {
   "cell_type": "code",
   "execution_count": 16,
   "metadata": {},
   "outputs": [],
   "source": [
    "class CustomLoss(nn.Module):\n",
    "    def __init__(self, coord_coeff:float = 1.0):\n",
    "        super(CustomLoss, self).__init__()\n",
    "        self.coord_coeff = coord_coeff\n",
    "        self.mse = nn.MSELoss(reduce=\"sum\")\n",
    "\n",
    "    def forward(self, prediction:torch.Tensor, target:dict):\n",
    "        true_boxes, true_labels = target[\"boxes\"], target[\"labels\"]\n",
    "\n",
    "        #Convert bbox coordinates to feed torchvision.ops.box_iou\n",
    "        bbox_wh_half = torch.mul(true_boxes[..., 2:4], 2)\n",
    "        true_x0_y0, true_x1_y1 = torch.sub(true_boxes[..., 0:2], bbox_wh_half), torch.add(true_boxes[..., 0:2], bbox_wh_half)\n",
    "        bbox_wh_half = torch.mul(prediction[..., 14:16], 2)\n",
    "        pred_x0_y0, pred_x1_y1 = torch.sub(prediction[..., 12:14], bbox_wh_half), torch.add(prediction[..., 12:14], bbox_wh_half)\n",
    "\n",
    "        iou = box_iou(torch.cat([true_x0_y0, true_x1_y1],1), torch.cat([pred_x0_y0, pred_x1_y1],1))\n",
    "        max_iou_vals, max_iou_id = iou.max(0)\n",
    "\n",
    "        ## BOXES LOSS ##\n",
    "        box_loss = \n",
    "\n",
    "\n",
    "        \n",
    "        "
   ]
  },
  {
   "cell_type": "code",
   "execution_count": null,
   "metadata": {},
   "outputs": [],
   "source": [
    "criterion = nn.MSELoss()\n",
    "optimizer = optim.SGD(net.parameters(), lr=0.001, momentum=0.9)"
   ]
  },
  {
   "attachments": {},
   "cell_type": "markdown",
   "metadata": {},
   "source": [
    "## Training ##"
   ]
  },
  {
   "cell_type": "code",
   "execution_count": null,
   "metadata": {},
   "outputs": [],
   "source": [
    "for epoch in range(10):  # loop over the dataset multiple times\n",
    "\n",
    "    running_loss = 0.0\n",
    "    for i, data in enumerate(train_loader, 0):\n",
    "        # get the inputs; data is a list of [inputs, labels]\n",
    "        inputs, labels = data[0].to(device), data[1].to(device)\n",
    "\n",
    "        # zero the parameter gradients\n",
    "        optimizer.zero_grad()\n",
    "\n",
    "        # forward + backward + optimize\n",
    "        outputs = net(inputs)\n",
    "        loss = criterion(outputs, labels)\n",
    "        loss.backward()\n",
    "        optimizer.step()\n",
    "\n",
    "        # print statistics\n",
    "        running_loss += loss.item()\n",
    "        if i % 500 == 499:    # print every 2000 mini-batches\n",
    "            print(f'[{epoch + 1}, {i + 1:5d}] loss: {running_loss / 2000:.3f}')\n",
    "            running_loss = 0.0\n",
    "\n",
    "print('Finished Training')"
   ]
  }
 ],
 "metadata": {
  "kernelspec": {
   "display_name": "deepl_env",
   "language": "python",
   "name": "python3"
  },
  "language_info": {
   "codemirror_mode": {
    "name": "ipython",
    "version": 3
   },
   "file_extension": ".py",
   "mimetype": "text/x-python",
   "name": "python",
   "nbconvert_exporter": "python",
   "pygments_lexer": "ipython3",
   "version": "3.10.6"
  },
  "orig_nbformat": 4
 },
 "nbformat": 4,
 "nbformat_minor": 2
}
